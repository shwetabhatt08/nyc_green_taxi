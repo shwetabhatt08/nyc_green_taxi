{
 "cells": [
  {
   "cell_type": "code",
   "execution_count": 751,
   "metadata": {
    "collapsed": true
   },
   "outputs": [],
   "source": [
    "import pandas\n",
    "import numpy\n",
    "import pandas as pd\n",
    "import matplotlib.pyplot as plt\n",
    "import numpy as np\n",
    "import plotly.plotly as py\n",
    "import datetime\n",
    "import seaborn as sns\n",
    "import datetime\n",
    "from datetime import timedelta\n",
    "%matplotlib inline"
   ]
  },
  {
   "cell_type": "markdown",
   "metadata": {},
   "source": [
    "Programmatically download and load the trip data for September 2015"
   ]
  },
  {
   "cell_type": "code",
   "execution_count": 752,
   "metadata": {
    "collapsed": true
   },
   "outputs": [],
   "source": [
    "'Load the data'\n",
    "url = \"https://s3.amazonaws.com/nyc-tlc/trip+data/green_tripdata_2015-09.csv\"\n",
    "df = pandas.read_csv(url)"
   ]
  },
  {
   "cell_type": "markdown",
   "metadata": {},
   "source": [
    "How many rows and columns of data you have loaded?"
   ]
  },
  {
   "cell_type": "code",
   "execution_count": 753,
   "metadata": {},
   "outputs": [
    {
     "name": "stdout",
     "output_type": "stream",
     "text": [
      "Number of rows: 1494926\n",
      "Number of columns: 21\n"
     ]
    }
   ],
   "source": [
    "'Number of rows and columns loaded'\n",
    "print \"Number of rows:\", df.shape[0]\n",
    "print \"Number of columns:\", df.shape[1]"
   ]
  },
  {
   "cell_type": "markdown",
   "metadata": {},
   "source": [
    "Plot a histogram of the number of the trip distance (\"Trip Distance\")"
   ]
  },
  {
   "cell_type": "code",
   "execution_count": 754,
   "metadata": {},
   "outputs": [
    {
     "data": {
      "text/plain": [
       "array([[<matplotlib.axes._subplots.AxesSubplot object at 0x11e891090>]], dtype=object)"
      ]
     },
     "execution_count": 754,
     "metadata": {},
     "output_type": "execute_result"
    },
    {
     "data": {
      "image/png": "[encoded data removed]",
      "text/plain": [
       "<matplotlib.figure.Figure at 0x11b362b10>"
      ]
     },
     "metadata": {},
     "output_type": "display_data"
    }
   ],
   "source": [
    "'Histogram plot for trip distance including outliers'\n",
    "df.hist(column='Trip_distance', bins=100)"
   ]
  },
  {
   "cell_type": "code",
   "execution_count": 755,
   "metadata": {
    "collapsed": true
   },
   "outputs": [],
   "source": [
    "'Find the 95th percentile of trip_distance'\n",
    "perc_95 = numpy.percentile(df.Trip_distance, 95)"
   ]
  },
  {
   "cell_type": "code",
   "execution_count": 756,
   "metadata": {
    "collapsed": true
   },
   "outputs": [],
   "source": [
    "'Find the 5th percentile of the trip distance'\n",
    "perc_5 = numpy.percentile(df.Trip_distance, 5)"
   ]
  },
  {
   "cell_type": "code",
   "execution_count": 757,
   "metadata": {
    "collapsed": true
   },
   "outputs": [],
   "source": [
    "'Remove outliers and store the result in a new list'\n",
    "trip_dist = df[(df.Trip_distance > perc_5 ) & ( df.Trip_distance < perc_95)].Trip_distance"
   ]
  },
  {
   "cell_type": "code",
   "execution_count": 758,
   "metadata": {},
   "outputs": [
    {
     "data": {
      "text/plain": [
       "<matplotlib.text.Text at 0x13109a690>"
      ]
     },
     "execution_count": 758,
     "metadata": {},
     "output_type": "execute_result"
    },
    {
     "data": {
      "image/png": "[encoded data removed]",
      "text/plain": [
       "<matplotlib.figure.Figure at 0x119ace250>"
      ]
     },
     "metadata": {},
     "output_type": "display_data"
    }
   ],
   "source": [
    "'Plot the histogram after excluding the outliers'\n",
    "fig = plt.figure()\n",
    "ax = fig.add_subplot(1,1,1)\n",
    "ax.hist(trip_dist, bins=150)\n",
    "plt.title('Trip distance distribution')\n",
    "plt.xlabel('Trip distance')\n",
    "plt.ylabel('No. of trips')"
   ]
  },
  {
   "cell_type": "markdown",
   "metadata": {},
   "source": [
    "Any structure you find and any hypotheses you have about that structure?"
   ]
  },
  {
   "cell_type": "markdown",
   "metadata": {},
   "source": [
    "The trip distance follows a lognormal distribution or a bell-shaped curve. With its peak values between 0 to 1 miles suggesting that most taxi trips are short ones."
   ]
  },
  {
   "cell_type": "markdown",
   "metadata": {},
   "source": [
    "Mean and median trip distance grouped by hour of day"
   ]
  },
  {
   "cell_type": "code",
   "execution_count": 759,
   "metadata": {
    "collapsed": true
   },
   "outputs": [],
   "source": [
    "'Convert lpep_pickup_datetime to the appropriate format'\n",
    "series = df['Trip_distance']\n",
    "df['lpep_pickup_datetime'] = pd.to_datetime(df.lpep_pickup_datetime)\n",
    "df['Lpep_dropoff_datetime'] = pd.to_datetime(df.Lpep_dropoff_datetime)"
   ]
  },
  {
   "cell_type": "code",
   "execution_count": 760,
   "metadata": {
    "collapsed": true
   },
   "outputs": [],
   "source": [
    "'Group the trip distance according to the hour and finde mean and median'\n",
    "mean_trip_dist = series.groupby(df.lpep_pickup_datetime.dt.hour).mean()\n",
    "median_trip_dist = series.groupby(df.lpep_pickup_datetime.dt.hour).median()"
   ]
  },
  {
   "cell_type": "code",
   "execution_count": 761,
   "metadata": {
    "collapsed": true
   },
   "outputs": [],
   "source": [
    "'Store the hours in a separate list'\n",
    "hour = mean_trip_dist.index"
   ]
  },
  {
   "cell_type": "code",
   "execution_count": 762,
   "metadata": {},
   "outputs": [
    {
     "data": {
      "image/png": "[encoded data removed]",
      "text/plain": [
       "<matplotlib.figure.Figure at 0x131051750>"
      ]
     },
     "metadata": {},
     "output_type": "display_data"
    }
   ],
   "source": [
    "import matplotlib.pyplot as plt\n",
    "#plot_1 = plt.plot(hour, mean_trip_dist, 'g', hour, median_trip_dist, 'b')\n",
    "plot_1, = plt.plot(hour, mean_trip_dist, 'g', label='Line 2')\n",
    "plot_2, = plt.plot(hour, median_trip_dist, 'b', label='Line 1')\n",
    "plt.legend([plot_1, plot_2], ['Mean Trip Distance', 'Median Trip Distance'])\n",
    "plt.title('Mean and media trip distance grouped by hours of the day')\n",
    "plt.xlabel('Hour of the day')\n",
    "plt.ylabel('Trip distance')\n",
    "#plt.legend(handles=[], loc=4)\n",
    "\n",
    "plt.show()"
   ]
  },
  {
   "cell_type": "markdown",
   "metadata": {},
   "source": [
    "We'd like to get a rough sense of identifying trips that originate or terminate at one of the NYC area airports. Can you provide a count of how many transactions fit this criteria, the average fair, and any other interesting characteristics of these trips"
   ]
  },
  {
   "cell_type": "markdown",
   "metadata": {},
   "source": [
    "There are three airports in NYC- JFK, Lagaurdia and Newark. Using the information in the RateCodeID variable we can select the JFK and Newark airport trips. Given more time, I would have liked to play around with the pick up and drop-off co-ordinates to match the locations nearest to the airports."
   ]
  },
  {
   "cell_type": "code",
   "execution_count": 763,
   "metadata": {
    "collapsed": true
   },
   "outputs": [],
   "source": [
    "'Select airport trips by filtering using the RateCodeID=2 for JFK and RateCodeID=3 for Newark'\n",
    "airport_data = df[(df['RateCodeID'] == 2) | (df['RateCodeID'] == 3)]"
   ]
  },
  {
   "cell_type": "code",
   "execution_count": 764,
   "metadata": {
    "collapsed": true
   },
   "outputs": [],
   "source": [
    "'Select the non-airport trips by excluding the airport trips from the dataset'\n",
    "non_airport_data = df[~df.lpep_pickup_datetime.isin(airport_data['lpep_pickup_datetime'])]"
   ]
  },
  {
   "cell_type": "code",
   "execution_count": 765,
   "metadata": {},
   "outputs": [
    {
     "name": "stdout",
     "output_type": "stream",
     "text": [
      "Number of airport trips:  5552\n"
     ]
    }
   ],
   "source": [
    "'Number of transactions for NYC airport trips'\n",
    "print \"Number of airport trips: \", airport_data.shape[0]"
   ]
  },
  {
   "cell_type": "code",
   "execution_count": 766,
   "metadata": {},
   "outputs": [
    {
     "name": "stdout",
     "output_type": "stream",
     "text": [
      "Avergare fare amount of airport trips: 48.976945245\n",
      "Avergare fare amount of non-airport trips: 12.4069261205\n"
     ]
    }
   ],
   "source": [
    "'Average fare amount of NYC airport trips and non-airport trips'\n",
    "print \"Avergare fare amount of airport trips:\", airport_data.Fare_amount.mean()\n",
    "print \"Avergare fare amount of non-airport trips:\", non_airport_data.Fare_amount.mean()"
   ]
  },
  {
   "cell_type": "code",
   "execution_count": 767,
   "metadata": {},
   "outputs": [
    {
     "name": "stdout",
     "output_type": "stream",
     "text": [
      "Average trip distance of airport trips: 10.378195245\n",
      "Average trip distance of non-airport trips: 2.94053273812\n"
     ]
    }
   ],
   "source": [
    "'Average trip distance of NYC airport trips and non-airport trips'\n",
    "print \"Average trip distance of airport trips:\",airport_data.Trip_distance.mean()\n",
    "print \"Average trip distance of non-airport trips:\", non_airport_data.Trip_distance.mean()"
   ]
  },
  {
   "cell_type": "code",
   "execution_count": 768,
   "metadata": {
    "collapsed": true
   },
   "outputs": [],
   "source": [
    "'Group airport data by hour of the day and storing the count'\n",
    "airport_count = airport_data.Trip_distance.groupby(airport_data.lpep_pickup_datetime.dt.hour).count()\n",
    "airport_count = [x for x in airport_count]"
   ]
  },
  {
   "cell_type": "code",
   "execution_count": 769,
   "metadata": {
    "collapsed": true
   },
   "outputs": [],
   "source": [
    "'Group non-airport data by hour of the day and storing the count'\n",
    "non_airport_count = non_airport_data.Trip_distance.groupby(non_airport_data.lpep_pickup_datetime.dt.hour).count()"
   ]
  },
  {
   "cell_type": "code",
   "execution_count": 770,
   "metadata": {
    "collapsed": true
   },
   "outputs": [],
   "source": [
    "'Normalizing the non-airport trip count groubed by hour of the day'\n",
    "norm_non_airport_count = [x/float(non_airport_data.shape[0])*airport_data.shape[0] for x in non_airport_count]"
   ]
  },
  {
   "cell_type": "code",
   "execution_count": 771,
   "metadata": {},
   "outputs": [
    {
     "data": {
      "image/png": "[encoded data removed]",
      "text/plain": [
       "<matplotlib.figure.Figure at 0x11ce9a9d0>"
      ]
     },
     "metadata": {},
     "output_type": "display_data"
    }
   ],
   "source": [
    "import matplotlib.pyplot as plt\n",
    "plot_1, = plt.plot(hour, airport_count, 'g', label='Line 2')\n",
    "plot_2, = plt.plot(hour, norm_non_airport_count, 'b', label='Line 1')\n",
    "plt.legend([plot_1, plot_2], ['Airport trips', 'Non-airport trips'])\n",
    "plt.title('Distribution of airport and non-airport trips ')\n",
    "plt.xlabel('Hour of the day')\n",
    "plt.ylabel('No. of trips')\n",
    "plt.show()"
   ]
  },
  {
   "cell_type": "code",
   "execution_count": null,
   "metadata": {
    "collapsed": true
   },
   "outputs": [],
   "source": []
  },
  {
   "cell_type": "markdown",
   "metadata": {},
   "source": [
    "About 0.37% of the trips were found to originate or terminate at either JFK or Newark airports, implying that Green Taxis are mostly used for commuting within the city.\n",
    "By performing some quick manipulations of the airport trips and non-airport trips it was found that on an average airport trips cost four times higher as compared to non-airport trips. This can be explained by the fact that on an average the airport trips are almost 3.5 times longer in terms of duration than the non-airport trips. \n",
    "The above figure plots the number of trips per hour for both airport and non-airport(normalized) categories in the dataset. We can observe that there's a trough in the number of airport trips around 2 am and non-airport trips at around 5am. Overall the traffic is low between midnight and early morning hours. However, there's a surge in the traffic oduring the afternoon with peak hours being between 2pm to 6pm. Overall, people are more likely to take taxis for travel during the day as compared to late nights as it coincides with the working hours at most offices."
   ]
  },
  {
   "cell_type": "markdown",
   "metadata": {},
   "source": [
    "Build a derived variable for tip as a percentage of the total fare"
   ]
  },
  {
   "cell_type": "code",
   "execution_count": 772,
   "metadata": {
    "collapsed": true
   },
   "outputs": [],
   "source": [
    "'Filtering the data with irrelevant records'\n",
    "df = df[df.Total_amount > 2.5]"
   ]
  },
  {
   "cell_type": "markdown",
   "metadata": {},
   "source": [
    "Since, minimum amount of a trip is 2.5 , all the records with total amount < 2.5 are filtered from the dataset to keep relevant records"
   ]
  },
  {
   "cell_type": "code",
   "execution_count": 773,
   "metadata": {
    "collapsed": true
   },
   "outputs": [],
   "source": [
    "'Derived variable for tip percentage'\n",
    "df['Tip_percentage'] = df.Tip_amount/df.Total_amount*100"
   ]
  },
  {
   "cell_type": "code",
   "execution_count": 774,
   "metadata": {},
   "outputs": [
    {
     "data": {
      "text/plain": [
       "count    1.487749e+06\n",
       "mean     6.666013e+00\n",
       "std      8.875859e+00\n",
       "min      0.000000e+00\n",
       "25%      0.000000e+00\n",
       "50%      0.000000e+00\n",
       "75%      1.666667e+01\n",
       "max      1.000000e+02\n",
       "Name: Tip_percentage, dtype: float64"
      ]
     },
     "execution_count": 774,
     "metadata": {},
     "output_type": "execute_result"
    }
   ],
   "source": [
    "df.Tip_percentage.describe()"
   ]
  },
  {
   "cell_type": "markdown",
   "metadata": {},
   "source": [
    "Build a predictive model for tip as a percentage of the total fare. Use as much of the data as you like (or all of it). We will validate a sample"
   ]
  },
  {
   "cell_type": "markdown",
   "metadata": {},
   "source": [
    "By observing the characteristics of the Tip_percentage variable, it can be noted that a lot of values must be 0 as the 25th and 50th percentile are zero and also the mean is less. Hence, let's find out the percentage of transactions that received a tip."
   ]
  },
  {
   "cell_type": "code",
   "execution_count": 775,
   "metadata": {},
   "outputs": [
    {
     "name": "stdout",
     "output_type": "stream",
     "text": [
      "Transactions that received tips: 40.5122772726 %\n"
     ]
    }
   ],
   "source": [
    "'Percentage transactions that received tips from customers'\n",
    "print \"Transactions that received tips:\", (float(df[df.Tip_percentage != 0].shape[0])/ float(df.shape[0]))*100, '%'"
   ]
  },
  {
   "cell_type": "markdown",
   "metadata": {},
   "source": [
    "Since, only 40% of the transactions received tips we can think about building our model in two phases. We first need to build a classifier that can predict if a transaction would receive a tip or not and then build a regression model for the tips that were predicted with tips by the classifier. \n",
    "Some of the factors that might affect a customer paying a tip could be the duration of the trip, whether the customer travelled on a weekday (they could be in a hurry or more stressed) or they travelled on a weekend (when they were more relaxed and patient). Likewise, it could also depend on the which hours during the day the trip occurred or the day of the month or even the speed with which the driver was driving (if he was over-speeding, driving too slow or responsibly). We do not have these exact variables in the dataset but we can derive these variables by other features such as pick-up and drop-off times, trip distance etc. We aso need to create a target variable-'Tip?' for our classifier that assumes a value of 1 if the transaction received a tip or 0 otherwise."
   ]
  },
  {
   "cell_type": "code",
   "execution_count": 776,
   "metadata": {
    "collapsed": true
   },
   "outputs": [],
   "source": [
    "'Creating new features or derived variables'\n",
    "df['lpep_pickup_datetime'] = pd.to_datetime(df.lpep_pickup_datetime)\n",
    "df['Lpep_dropoff_datetime'] = pd.to_datetime(df.Lpep_dropoff_datetime)\n",
    "df['Hour_of_day'] = df.lpep_pickup_datetime.dt.hour\n",
    "df['Day_of_week'] = df.lpep_pickup_datetime.dt.dayofweek\n",
    "df['Day_of_month'] = df.lpep_pickup_datetime.dt.day\n",
    "df['Tip?'] = (df.Tip_percentage > 0.0)*1\n",
    "time_interval = df.Lpep_dropoff_datetime - df.lpep_pickup_datetime\n",
    "df['Trip_duration'] = [x.total_seconds()/float(60*60) for x in time_interval]\n",
    "df['Trip_speed'] = df['Trip_distance']/df['Trip_duration']\n",
    "# Replacing NaN and inf values with the mean value of speed\n",
    "indices_speed = df[(df.Trip_speed.isnull()) | (df.Trip_speed > 200.0)].index\n",
    "mean_valid_speed = df[~((df.Trip_speed.isnull()) | (df.Trip_speed > 200))].Trip_speed.mean()\n",
    "df.loc[indices_speed, 'Trip_speed'] = mean_valid_speed"
   ]
  },
  {
   "cell_type": "code",
   "execution_count": 779,
   "metadata": {
    "collapsed": true
   },
   "outputs": [],
   "source": [
    "'Splitting the data set into two parts based on Tip percentage being zero or non-zero'\n",
    "df_tip = df[df.Tip_percentage > 0.0]\n",
    "df_non_tip = df[df.Tip_percentage == 0]"
   ]
  },
  {
   "cell_type": "markdown",
   "metadata": {},
   "source": [
    "We now perform data exploration and visualizarions to explore the features and the relationship between variables below."
   ]
  },
  {
   "cell_type": "code",
   "execution_count": 780,
   "metadata": {},
   "outputs": [
    {
     "name": "stdout",
     "output_type": "stream",
     "text": [
      "1    602718\n",
      "2         2\n",
      "4         1\n",
      "Name: Payment_type, dtype: int64\n"
     ]
    }
   ],
   "source": [
    "print df_tip.Payment_type.value_counts()"
   ]
  },
  {
   "cell_type": "code",
   "execution_count": 781,
   "metadata": {},
   "outputs": [
    {
     "name": "stdout",
     "output_type": "stream",
     "text": [
      "2    779374\n",
      "1     98215\n",
      "3      3920\n",
      "4      3447\n",
      "5        72\n",
      "Name: Payment_type, dtype: int64\n"
     ]
    }
   ],
   "source": [
    "print df_non_tip.Payment_type.value_counts()"
   ]
  },
  {
   "cell_type": "markdown",
   "metadata": {},
   "source": [
    "Since, it can be seen from the above results, 99.9% of the payments that received tips were through credit cards while 87% of the transactions for that did not received tips were through cash payments. Hence, credit card payments are more likely to include tips than cash payments. Thus, payment type can be used a feature for our classifier.\n",
    "Similarly, exploring other variables."
   ]
  },
  {
   "cell_type": "code",
   "execution_count": 782,
   "metadata": {},
   "outputs": [
    {
     "name": "stdout",
     "output_type": "stream",
     "text": [
      "1    595471\n",
      "5      4871\n",
      "2      1588\n",
      "4       396\n",
      "3       395\n",
      "Name: RateCodeID, dtype: int64\n"
     ]
    }
   ],
   "source": [
    "print df_tip.RateCodeID.value_counts()"
   ]
  },
  {
   "cell_type": "code",
   "execution_count": 783,
   "metadata": {},
   "outputs": [
    {
     "name": "stdout",
     "output_type": "stream",
     "text": [
      "1     856148\n",
      "5      24921\n",
      "2       2711\n",
      "3        696\n",
      "4        516\n",
      "6         32\n",
      "99         4\n",
      "Name: RateCodeID, dtype: int64\n"
     ]
    }
   ],
   "source": [
    "print df_non_tip.RateCodeID.value_counts()"
   ]
  },
  {
   "cell_type": "markdown",
   "metadata": {},
   "source": [
    "RateCodeIDs follow the same kind of distribution for both kinds of trips, hence not a very good feature for classification."
   ]
  },
  {
   "cell_type": "code",
   "execution_count": 784,
   "metadata": {},
   "outputs": [
    {
     "name": "stdout",
     "output_type": "stream",
     "text": [
      "Mean trip distance for trips with tips: 3.50570089643\n",
      "Mean trip distance for trips without tips: 2.61069620396\n"
     ]
    }
   ],
   "source": [
    "print \"Mean trip distance for trips with tips:\", df_tip.Trip_distance.mean()\n",
    "print \"Mean trip distance for trips without tips:\", df_non_tip.Trip_distance.mean()"
   ]
  },
  {
   "cell_type": "code",
   "execution_count": 785,
   "metadata": {},
   "outputs": [
    {
     "name": "stdout",
     "output_type": "stream",
     "text": [
      "Mean Fare amount for trips with tips: 14.2305401006\n",
      "Mean Fare amount for trips without tips: 11.5233633738\n"
     ]
    }
   ],
   "source": [
    "print \"Mean Fare amount for trips with tips:\", df_tip.Fare_amount.mean()\n",
    "print \"Mean Fare amount for trips without tips:\", df_non_tip.Fare_amount.mean()"
   ]
  },
  {
   "cell_type": "code",
   "execution_count": 786,
   "metadata": {},
   "outputs": [
    {
     "name": "stdout",
     "output_type": "stream",
     "text": [
      "Mean passenger count for trips with tips: 1.37146208611\n",
      "Mean passenger count for trips without tips: 1.37064703038\n"
     ]
    }
   ],
   "source": [
    "print \"Mean passenger count for trips with tips:\", df_tip.Passenger_count.mean()\n",
    "print \"Mean passenger count for trips without tips:\", df_non_tip.Passenger_count.mean()"
   ]
  },
  {
   "cell_type": "code",
   "execution_count": 787,
   "metadata": {},
   "outputs": [
    {
     "name": "stdout",
     "output_type": "stream",
     "text": [
      "Mean speed for trips with tips: 13.5226743984 mph\n",
      "Mean speed for trips without tips: 12.4797274775 mph\n"
     ]
    }
   ],
   "source": [
    "print \"Mean speed for trips with tips:\", df_tip.Trip_speed.mean(), 'mph'\n",
    "print \"Mean speed for trips without tips:\", df_non_tip.Trip_speed.mean(), 'mph'"
   ]
  },
  {
   "cell_type": "code",
   "execution_count": 788,
   "metadata": {
    "collapsed": true
   },
   "outputs": [],
   "source": [
    "tip_count = df_tip.Trip_distance.groupby(df_tip.lpep_pickup_datetime.dt.hour).count()\n",
    "tip_count = [x for x in tip_count]\n",
    "non_tip_count = df_non_tip.Trip_distance.groupby(df_non_tip.lpep_pickup_datetime.dt.hour).count()\n",
    "norm_non_tip_count = [float(x)/float(df_non_tip.shape[0])*float(df_tip.shape[0]) for x in non_tip_count]"
   ]
  },
  {
   "cell_type": "code",
   "execution_count": 793,
   "metadata": {},
   "outputs": [
    {
     "data": {
      "image/png": "[encoded data removed]",
      "text/plain": [
       "<matplotlib.figure.Figure at 0x21e8990d0>"
      ]
     },
     "metadata": {},
     "output_type": "display_data"
    }
   ],
   "source": [
    "import matplotlib.pyplot as plt\n",
    "plot_1, = plt.plot(hour, tip_count, 'g', label='Line 2')\n",
    "plot_2, = plt.plot(hour, norm_non_tip_count, 'b', label='Line 1')\n",
    "plt.legend([plot_1, plot_2], ['Tipped trips', 'Non-tripped trips'])\n",
    "plt.title('Distribution of trips ')\n",
    "plt.xlabel('Hour of the day')\n",
    "plt.ylabel('No. of trips')\n",
    "plt.show()"
   ]
  },
  {
   "cell_type": "code",
   "execution_count": 795,
   "metadata": {},
   "outputs": [
    {
     "data": {
      "image/png": "[encoded data removed]",
      "text/plain": [
       "<matplotlib.figure.Figure at 0x2462b7150>"
      ]
     },
     "metadata": {},
     "output_type": "display_data"
    }
   ],
   "source": [
    "tip_fare_amount = df_tip.Fare_amount.groupby(df_tip.lpep_pickup_datetime.dt.hour).mean()\n",
    "plot_1, = plt.plot(hour, tip_fare_amount, 'g', label='Line 2')\n",
    "plt.legend([plot_1], ['Tipped trips'])\n",
    "plt.title('Distribution of tipped trips ')\n",
    "plt.xlabel('Hour of the day')\n",
    "plt.ylabel('Mean fare amount')\n",
    "plt.show()"
   ]
  },
  {
   "cell_type": "code",
   "execution_count": 796,
   "metadata": {},
   "outputs": [
    {
     "data": {
      "image/png": "[encoded data removed]",
      "text/plain": [
       "<matplotlib.figure.Figure at 0x11a875b90>"
      ]
     },
     "metadata": {},
     "output_type": "display_data"
    }
   ],
   "source": [
    "tip_percentage_by_hour = df_tip.Tip_percentage.groupby(df_tip.lpep_pickup_datetime.dt.hour).mean()\n",
    "plot_1, = plt.plot(hour, tip_percentage_by_hour, 'g', label='Line 2')\n",
    "plt.title('Distribution of tipped trips ')\n",
    "plt.xlabel('Hour of the day')\n",
    "plt.ylabel('Mean Tip percentage')\n",
    "plt.show()"
   ]
  },
  {
   "cell_type": "code",
   "execution_count": 797,
   "metadata": {
    "collapsed": true
   },
   "outputs": [],
   "source": [
    "day_of_week = range(0,7)"
   ]
  },
  {
   "cell_type": "code",
   "execution_count": 373,
   "metadata": {},
   "outputs": [
    {
     "data": {
      "image/png": "[encoded data removed]",
      "text/plain": [
       "<matplotlib.figure.Figure at 0x11720fb50>"
      ]
     },
     "metadata": {},
     "output_type": "display_data"
    }
   ],
   "source": [
    "tip_percentage_by_weekday = df_tip.Tip_percentage.groupby(df_tip.lpep_pickup_datetime.dt.dayofweek).mean()\n",
    "plot_1, = plt.plot(day_of_week, tip_percentage_by_weekday, 'g', label='Line 2')\n",
    "plt.legend([plot_1], ['Tipped trips'])\n",
    "plt.title('Distribution of tipped trips ')\n",
    "plt.xlabel('Day of the week')\n",
    "plt.ylabel('Mean Tip percentage')\n",
    "plt.show()"
   ]
  },
  {
   "cell_type": "code",
   "execution_count": 798,
   "metadata": {
    "collapsed": true
   },
   "outputs": [],
   "source": [
    "day_of_month = range(0,30)"
   ]
  },
  {
   "cell_type": "code",
   "execution_count": 799,
   "metadata": {},
   "outputs": [
    {
     "data": {
      "image/png": "[encoded data removed]",
      "text/plain": [
       "<matplotlib.figure.Figure at 0x1de4cd8d0>"
      ]
     },
     "metadata": {},
     "output_type": "display_data"
    }
   ],
   "source": [
    "tip_percentage_by_monthday = df_tip.Tip_percentage.groupby(df_tip.lpep_pickup_datetime.dt.day).mean()\n",
    "plot_1, = plt.plot(day_of_month, tip_percentage_by_monthday, 'g', label='Line 2')\n",
    "plt.legend([plot_1], ['Tipped trips'])\n",
    "plt.title('Distribution of tipped trips ')\n",
    "plt.xlabel('Day of the month')\n",
    "plt.ylabel('Mean Tip percentage')\n",
    "plt.show()"
   ]
  },
  {
   "cell_type": "code",
   "execution_count": 803,
   "metadata": {},
   "outputs": [
    {
     "name": "stdout",
     "output_type": "stream",
     "text": [
      "Invalid RateCodeIds: 0.000268862556789 %\n",
      "Invalid Payment type: 0.0 %\n"
     ]
    }
   ],
   "source": [
    "'Data Cleaning'\n",
    "print 'Invalid RateCodeIds:', float(df[~df.RateCodeID.isin([1,2,3,4,5,6])].shape[0])/float(df.shape[0])*100,'%'\n",
    "print 'Invalid Payment type:', float(df[~df.Payment_type.isin([1,2,3,4,5,6])].shape[0])/float(df.shape[0])*100,'%'"
   ]
  },
  {
   "cell_type": "code",
   "execution_count": 804,
   "metadata": {
    "collapsed": true
   },
   "outputs": [],
   "source": [
    "'Replace invalid RateCodeIds with most frequent value = 1'\n",
    "invalid_indices = df[~df.RateCodeID.isin([1,2,3,4,5,6])].index\n",
    "df.loc[invalid_indices, 'RateCodeID'] = 1 "
   ]
  },
  {
   "cell_type": "code",
   "execution_count": 805,
   "metadata": {},
   "outputs": [
    {
     "name": "stdout",
     "output_type": "stream",
     "text": [
      "Negative passenger count: 0.0 %\n"
     ]
    }
   ],
   "source": [
    "print 'Negative passenger count:', float(df[df.Passenger_count < 0].shape[0])/float(df.shape[0])*100,'%'"
   ]
  },
  {
   "cell_type": "code",
   "execution_count": 806,
   "metadata": {},
   "outputs": [
    {
     "data": {
      "text/plain": [
       "<seaborn.axisgrid.PairGrid at 0x13db9c5d0>"
      ]
     },
     "execution_count": 806,
     "metadata": {},
     "output_type": "execute_result"
    },
    {
     "data": {
      "image/png": "[encoded data removed]",
      "text/plain": [
       "<matplotlib.figure.Figure at 0x131416ad0>"
      ]
     },
     "metadata": {},
     "output_type": "display_data"
    }
   ],
   "source": [
    "sns.pairplot(df_tip, x_vars= ['Trip_distance'], y_vars='Tip_percentage', size=7, aspect=0.7, kind='reg')"
   ]
  },
  {
   "cell_type": "code",
   "execution_count": 536,
   "metadata": {},
   "outputs": [
    {
     "data": {
      "text/plain": [
       "<seaborn.axisgrid.PairGrid at 0x11870b550>"
      ]
     },
     "execution_count": 536,
     "metadata": {},
     "output_type": "execute_result"
    },
    {
     "data": {
      "image/png": "[encoded data removed]",
      "text/plain": [
       "<matplotlib.figure.Figure at 0x11870bdd0>"
      ]
     },
     "metadata": {},
     "output_type": "display_data"
    }
   ],
   "source": [
    "sns.pairplot(df_tip, x_vars= ['Fare_amount'], y_vars='Tip_percentage', size=7, aspect=0.7, kind='reg')"
   ]
  },
  {
   "cell_type": "code",
   "execution_count": 807,
   "metadata": {},
   "outputs": [
    {
     "data": {
      "text/plain": [
       "<seaborn.axisgrid.PairGrid at 0x13d1e23d0>"
      ]
     },
     "execution_count": 807,
     "metadata": {},
     "output_type": "execute_result"
    },
    {
     "data": {
      "image/png": "[encoded data removed]",
      "text/plain": [
       "<matplotlib.figure.Figure at 0x13d1e2650>"
      ]
     },
     "metadata": {},
     "output_type": "display_data"
    }
   ],
   "source": [
    "sns.pairplot(df_tip, x_vars= ['Trip_speed'], y_vars='Tip_percentage', size=7, aspect=0.7, kind='reg')"
   ]
  },
  {
   "cell_type": "markdown",
   "metadata": {},
   "source": [
    "After Data cleaning, exploration and feature engineering, following variables can be selected as feature variables for the classification model- passenger_count, payment_type, hour_of_day, day_of_week, day_of_month"
   ]
  },
  {
   "cell_type": "code",
   "execution_count": 808,
   "metadata": {
    "collapsed": true
   },
   "outputs": [],
   "source": [
    "'Classification model for predicting whether a transaction receives a tip or not'\n",
    "'Put feature variables in a list'\n",
    "feature_cols = ['Passenger_count', 'Payment_type', 'Hour_of_day', 'Day_of_week', 'Day_of_month']"
   ]
  },
  {
   "cell_type": "code",
   "execution_count": 812,
   "metadata": {},
   "outputs": [
    {
     "name": "stdout",
     "output_type": "stream",
     "text": [
      "(100000, 28)\n"
     ]
    }
   ],
   "source": [
    "'Selecting random 100000 records from the original dataset for training the model'\n",
    "model_data = df.sample(n=100000)\n",
    "print model_data.shape"
   ]
  },
  {
   "cell_type": "code",
   "execution_count": 813,
   "metadata": {},
   "outputs": [
    {
     "name": "stdout",
     "output_type": "stream",
     "text": [
      "(100000, 5)\n"
     ]
    }
   ],
   "source": [
    "'Store feature matix in X'\n",
    "X = model_data[feature_cols]\n",
    "print X.shape"
   ]
  },
  {
   "cell_type": "code",
   "execution_count": 815,
   "metadata": {},
   "outputs": [
    {
     "name": "stdout",
     "output_type": "stream",
     "text": [
      "(100000,)\n"
     ]
    }
   ],
   "source": [
    "'Store target variable in y'\n",
    "y = model_data['Tip?']\n",
    "print y.shape"
   ]
  },
  {
   "cell_type": "code",
   "execution_count": 821,
   "metadata": {
    "collapsed": true
   },
   "outputs": [],
   "source": [
    "'Select 1000 records for prediction purposes'\n",
    "test_data = df.sample(n=1000)\n",
    "X_test = test_data[feature_cols]\n",
    "y_test = test_data['Tip?']"
   ]
  },
  {
   "cell_type": "markdown",
   "metadata": {},
   "source": [
    "In order to select the right model we would first start with a simple classifier model and check its accuracy score. And then we would optimize the model to find best parameters and also compare with other complex models."
   ]
  },
  {
   "cell_type": "code",
   "execution_count": 822,
   "metadata": {
    "collapsed": true
   },
   "outputs": [],
   "source": [
    "'Istantiate a KNN-classifier with 5 neighbours'\n",
    "from sklearn.neighbors import KNeighborsClassifier\n",
    "knn = KNeighborsClassifier(n_neighbors=5)"
   ]
  },
  {
   "cell_type": "code",
   "execution_count": 823,
   "metadata": {},
   "outputs": [
    {
     "data": {
      "text/plain": [
       "KNeighborsClassifier(algorithm='auto', leaf_size=30, metric='minkowski',\n",
       "           metric_params=None, n_jobs=1, n_neighbors=5, p=2,\n",
       "           weights='uniform')"
      ]
     },
     "execution_count": 823,
     "metadata": {},
     "output_type": "execute_result"
    }
   ],
   "source": [
    "'Fit the model with training variables'\n",
    "knn.fit(X,y)"
   ]
  },
  {
   "cell_type": "code",
   "execution_count": 824,
   "metadata": {
    "collapsed": true
   },
   "outputs": [],
   "source": [
    "'Perform 10 fold cross-validation and find mean accuracy score '\n",
    "from sklearn.cross_validation import cross_val_score\n",
    "scores = cross_val_score(knn, X, y, cv=10, scoring='accuracy')"
   ]
  },
  {
   "cell_type": "code",
   "execution_count": 826,
   "metadata": {},
   "outputs": [
    {
     "name": "stdout",
     "output_type": "stream",
     "text": [
      "0.920950074376\n"
     ]
    }
   ],
   "source": [
    "print scores.mean()"
   ]
  },
  {
   "cell_type": "markdown",
   "metadata": {},
   "source": [
    "Classification accuracy achieved by KNN-classifier with 5 neighbours is 0.9209. So, we know that KNN is a good classifier. We can optimize its parameters by using RandomSearchCV "
   ]
  },
  {
   "cell_type": "code",
   "execution_count": 827,
   "metadata": {
    "collapsed": true
   },
   "outputs": [],
   "source": [
    "from sklearn import metrics"
   ]
  },
  {
   "cell_type": "code",
   "execution_count": 828,
   "metadata": {
    "collapsed": true
   },
   "outputs": [],
   "source": [
    "'Finding the best parameter for KNN classifier'\n",
    "from sklearn.grid_search import RandomizedSearchCV"
   ]
  },
  {
   "cell_type": "code",
   "execution_count": 829,
   "metadata": {
    "collapsed": true
   },
   "outputs": [],
   "source": [
    "k_range = range(1,16)\n",
    "param_dict = dict(n_neighbors=k_range)"
   ]
  },
  {
   "cell_type": "code",
   "execution_count": 832,
   "metadata": {
    "collapsed": true
   },
   "outputs": [],
   "source": [
    "rand = RandomizedSearchCV(knn, param_dict, cv=10, scoring='accuracy', n_iter=10, random_state=5)"
   ]
  },
  {
   "cell_type": "code",
   "execution_count": 834,
   "metadata": {},
   "outputs": [
    {
     "data": {
      "text/plain": [
       "RandomizedSearchCV(cv=10, error_score='raise',\n",
       "          estimator=KNeighborsClassifier(algorithm='auto', leaf_size=30, metric='minkowski',\n",
       "           metric_params=None, n_jobs=1, n_neighbors=5, p=2,\n",
       "           weights='uniform'),\n",
       "          fit_params={}, iid=True, n_iter=10, n_jobs=1,\n",
       "          param_distributions={'n_neighbors': [1, 2, 3, 4, 5, 6, 7, 8, 9, 10, 11, 12, 13, 14, 15]},\n",
       "          pre_dispatch='2*n_jobs', random_state=5, refit=True,\n",
       "          scoring='accuracy', verbose=0)"
      ]
     },
     "execution_count": 834,
     "metadata": {},
     "output_type": "execute_result"
    }
   ],
   "source": [
    "rand.fit(X,y)"
   ]
  },
  {
   "cell_type": "code",
   "execution_count": 835,
   "metadata": {},
   "outputs": [
    {
     "data": {
      "text/plain": [
       "0.92534"
      ]
     },
     "execution_count": 835,
     "metadata": {},
     "output_type": "execute_result"
    }
   ],
   "source": [
    "rand.best_score_"
   ]
  },
  {
   "cell_type": "code",
   "execution_count": 836,
   "metadata": {},
   "outputs": [
    {
     "data": {
      "text/plain": [
       "{'n_neighbors': 11}"
      ]
     },
     "execution_count": 836,
     "metadata": {},
     "output_type": "execute_result"
    }
   ],
   "source": [
    "rand.best_params_"
   ]
  },
  {
   "cell_type": "markdown",
   "metadata": {},
   "source": [
    "Using RandomSearchCV we find that the best parameter = 5 and the accuracy slightly improves using the best parameter.\n",
    "We would try other classifiers to check if we can improve upon the accuracy."
   ]
  },
  {
   "cell_type": "code",
   "execution_count": 837,
   "metadata": {
    "collapsed": true
   },
   "outputs": [],
   "source": [
    "from sklearn.ensemble import BaggingClassifier\n",
    "from sklearn.tree import DecisionTreeClassifier\n",
    "\n",
    "'Instantiate a decision tree classifier'\n",
    "dtree = DecisionTreeClassifier()"
   ]
  },
  {
   "cell_type": "code",
   "execution_count": 838,
   "metadata": {},
   "outputs": [
    {
     "data": {
      "text/plain": [
       "DecisionTreeClassifier(class_weight=None, criterion='gini', max_depth=None,\n",
       "            max_features=None, max_leaf_nodes=None,\n",
       "            min_impurity_split=1e-07, min_samples_leaf=1,\n",
       "            min_samples_split=2, min_weight_fraction_leaf=0.0,\n",
       "            presort=False, random_state=None, splitter='best')"
      ]
     },
     "execution_count": 838,
     "metadata": {},
     "output_type": "execute_result"
    }
   ],
   "source": [
    "'Fit the model'\n",
    "dtree.fit(X,y)"
   ]
  },
  {
   "cell_type": "code",
   "execution_count": 839,
   "metadata": {},
   "outputs": [
    {
     "name": "stdout",
     "output_type": "stream",
     "text": [
      "0.92906995144\n"
     ]
    }
   ],
   "source": [
    "scores = cross_val_score(dtree, X, y, cv=10, scoring='accuracy')\n",
    "print scores.mean()"
   ]
  },
  {
   "cell_type": "markdown",
   "metadata": {},
   "source": [
    "The accuracy obtained (0.929) is again slightly better than with the best KNN model."
   ]
  },
  {
   "cell_type": "code",
   "execution_count": 841,
   "metadata": {},
   "outputs": [
    {
     "data": {
      "text/plain": [
       "RandomForestClassifier(bootstrap=True, class_weight=None, criterion='gini',\n",
       "            max_depth=None, max_features='auto', max_leaf_nodes=None,\n",
       "            min_impurity_split=1e-07, min_samples_leaf=1,\n",
       "            min_samples_split=2, min_weight_fraction_leaf=0.0,\n",
       "            n_estimators=20, n_jobs=1, oob_score=False, random_state=None,\n",
       "            verbose=0, warm_start=False)"
      ]
     },
     "execution_count": 841,
     "metadata": {},
     "output_type": "execute_result"
    }
   ],
   "source": [
    "from sklearn.ensemble import RandomForestClassifier\n",
    "'Instantiate a random forest classifier and fit the model to the training data'\n",
    "rforest = RandomForestClassifier(n_estimators=20)\n",
    "rforest.fit(X,y)"
   ]
  },
  {
   "cell_type": "code",
   "execution_count": 842,
   "metadata": {},
   "outputs": [
    {
     "name": "stdout",
     "output_type": "stream",
     "text": [
      "0.931679981463\n"
     ]
    }
   ],
   "source": [
    "print cross_val_score(rforest, X, y, cv=10, scoring='accuracy').mean()"
   ]
  },
  {
   "cell_type": "markdown",
   "metadata": {},
   "source": [
    "Again, we see the accuracy improving slightly with random forest classifier (0.9316)"
   ]
  },
  {
   "cell_type": "code",
   "execution_count": 844,
   "metadata": {},
   "outputs": [
    {
     "data": {
      "text/plain": [
       "BaggingClassifier(base_estimator=RandomForestClassifier(bootstrap=True, class_weight=None, criterion='gini',\n",
       "            max_depth=None, max_features='auto', max_leaf_nodes=None,\n",
       "            min_impurity_split=1e-07, min_samples_leaf=1,\n",
       "            min_samples_split=2, min_weight_fraction_leaf=0.0,\n",
       "            n_estimators=20, n_jobs=1, oob_score=False, random_state=None,\n",
       "            verbose=0, warm_start=False),\n",
       "         bootstrap=True, bootstrap_features=False, max_features=1.0,\n",
       "         max_samples=0.5, n_estimators=50, n_jobs=1, oob_score=True,\n",
       "         random_state=None, verbose=0, warm_start=False)"
      ]
     },
     "execution_count": 844,
     "metadata": {},
     "output_type": "execute_result"
    }
   ],
   "source": [
    "'Baggine trees ensemble methos with 50 trees'\n",
    "bag = BaggingClassifier(rforest, max_samples=0.5, max_features=1.0, n_estimators=50, oob_score=True)\n",
    "bag.fit(X,y)"
   ]
  },
  {
   "cell_type": "code",
   "execution_count": 845,
   "metadata": {},
   "outputs": [
    {
     "name": "stdout",
     "output_type": "stream",
     "text": [
      "0.933869973479\n"
     ]
    }
   ],
   "source": [
    "scores = cross_val_score(bag, X, y, cv=10, scoring='accuracy')\n",
    "print scores.mean()"
   ]
  },
  {
   "cell_type": "markdown",
   "metadata": {},
   "source": [
    "We further observe improvement in inaccuracy but due to shortage of time cannot perform a RandomSearchCV or GridSearchCV for finding the best value of no. of trees for the bagging classifier so randomly select a value of 50. \n",
    "We finally select baggingclassifier as our classification model with the scope of improvement and accuracy of 0.934.\n",
    "We now start building our regression model by comparing the accuracy of linear regression and Gradient Boosting Regression models. We select features like Total_amount, Fare_amount, Trip_distance, Trip_speed and Tolls_amount for the regression model as they representn continuous variables and are likely to affect the Tip percentage."
   ]
  },
  {
   "cell_type": "code",
   "execution_count": 851,
   "metadata": {},
   "outputs": [
    {
     "data": {
      "text/plain": [
       "'Regression model for predicting the Tip percentage'"
      ]
     },
     "execution_count": 851,
     "metadata": {},
     "output_type": "execute_result"
    }
   ],
   "source": [
    "'Regression model for predicting the Tip percentage'"
   ]
  },
  {
   "cell_type": "code",
   "execution_count": 852,
   "metadata": {},
   "outputs": [
    {
     "data": {
      "text/plain": [
       "(1487749, 28)"
      ]
     },
     "execution_count": 852,
     "metadata": {},
     "output_type": "execute_result"
    }
   ],
   "source": [
    "df.shape"
   ]
  },
  {
   "cell_type": "code",
   "execution_count": 866,
   "metadata": {
    "collapsed": true
   },
   "outputs": [],
   "source": [
    "'Selecting 100000 records for training the regressor from the transaction which received tips'\n",
    "reg_data = df_tip.sample(n=100000)"
   ]
  },
  {
   "cell_type": "code",
   "execution_count": 853,
   "metadata": {
    "collapsed": true
   },
   "outputs": [],
   "source": [
    "reg_feature_cols = ['Total_amount', 'Fare_amount', 'Trip_distance', 'Trip_speed', 'Tolls_amount']"
   ]
  },
  {
   "cell_type": "code",
   "execution_count": 867,
   "metadata": {
    "collapsed": true
   },
   "outputs": [],
   "source": [
    "X_reg = reg_data[reg_feature_cols]"
   ]
  },
  {
   "cell_type": "code",
   "execution_count": 868,
   "metadata": {
    "collapsed": true
   },
   "outputs": [],
   "source": [
    "y_reg = reg_data['Tip_percentage']"
   ]
  },
  {
   "cell_type": "code",
   "execution_count": 869,
   "metadata": {
    "collapsed": true
   },
   "outputs": [],
   "source": [
    "from sklearn.linear_model import LinearRegression\n",
    "linreg = LinearRegression()"
   ]
  },
  {
   "cell_type": "code",
   "execution_count": 870,
   "metadata": {},
   "outputs": [
    {
     "data": {
      "text/plain": [
       "LinearRegression(copy_X=True, fit_intercept=True, n_jobs=1, normalize=False)"
      ]
     },
     "execution_count": 870,
     "metadata": {},
     "output_type": "execute_result"
    }
   ],
   "source": [
    "linreg.fit(X_reg, y_reg)"
   ]
  },
  {
   "cell_type": "code",
   "execution_count": 871,
   "metadata": {},
   "outputs": [
    {
     "name": "stdout",
     "output_type": "stream",
     "text": [
      "[-14.37365385 -30.94496741 -15.62910939 -17.2656842  -29.19001863\n",
      " -14.36457515 -15.75253215 -15.78689872 -18.72667292 -15.7778229 ]\n"
     ]
    }
   ],
   "source": [
    "scores = cross_val_score(linreg, X_reg, y_reg, cv=10, scoring='neg_mean_squared_error')\n",
    "print scores"
   ]
  },
  {
   "cell_type": "code",
   "execution_count": 872,
   "metadata": {},
   "outputs": [
    {
     "data": {
      "text/plain": [
       "array([ 14.37365385,  30.94496741,  15.62910939,  17.2656842 ,\n",
       "        29.19001863,  14.36457515,  15.75253215,  15.78689872,\n",
       "        18.72667292,  15.7778229 ])"
      ]
     },
     "execution_count": 872,
     "metadata": {},
     "output_type": "execute_result"
    }
   ],
   "source": [
    "mse_scores = -scores\n",
    "mse_scores"
   ]
  },
  {
   "cell_type": "code",
   "execution_count": 873,
   "metadata": {},
   "outputs": [
    {
     "data": {
      "text/plain": [
       "4.2897270661939553"
      ]
     },
     "execution_count": 873,
     "metadata": {},
     "output_type": "execute_result"
    }
   ],
   "source": [
    "rmse_scores = np.sqrt(mse_scores)\n",
    "rmse_scores.mean()"
   ]
  },
  {
   "cell_type": "markdown",
   "metadata": {},
   "source": [
    "The mean root mean squared error is high so we start exploring the Gradient Boosting Ensemble method."
   ]
  },
  {
   "cell_type": "code",
   "execution_count": 874,
   "metadata": {},
   "outputs": [
    {
     "data": {
      "text/plain": [
       "GradientBoostingRegressor(alpha=0.9, criterion='friedman_mse', init=None,\n",
       "             learning_rate=0.1, loss='ls', max_depth=3, max_features=None,\n",
       "             max_leaf_nodes=None, min_impurity_split=1e-07,\n",
       "             min_samples_leaf=1, min_samples_split=2,\n",
       "             min_weight_fraction_leaf=0.0, n_estimators=100,\n",
       "             presort='auto', random_state=None, subsample=1.0, verbose=0,\n",
       "             warm_start=False)"
      ]
     },
     "execution_count": 874,
     "metadata": {},
     "output_type": "execute_result"
    }
   ],
   "source": [
    "from sklearn.ensemble import GradientBoostingRegressor\n",
    "\n",
    "boost =  GradientBoostingRegressor()\n",
    "boost.fit(X_reg, y_reg)"
   ]
  },
  {
   "cell_type": "code",
   "execution_count": 875,
   "metadata": {},
   "outputs": [
    {
     "name": "stdout",
     "output_type": "stream",
     "text": [
      "[-10.18900291 -10.90064729 -10.42559284 -10.37078608 -10.80857758\n",
      " -10.90438681 -10.6993565  -10.06260522 -10.73504373 -10.32592549]\n"
     ]
    }
   ],
   "source": [
    "scores = cross_val_score(boost, X_reg, y_reg, cv=10, scoring='neg_mean_squared_error')\n",
    "print scores"
   ]
  },
  {
   "cell_type": "code",
   "execution_count": 876,
   "metadata": {},
   "outputs": [
    {
     "data": {
      "text/plain": [
       "array([ 10.18900291,  10.90064729,  10.42559284,  10.37078608,\n",
       "        10.80857758,  10.90438681,  10.6993565 ,  10.06260522,\n",
       "        10.73504373,  10.32592549])"
      ]
     },
     "execution_count": 876,
     "metadata": {},
     "output_type": "execute_result"
    }
   ],
   "source": [
    "mse_scores = -scores\n",
    "mse_scores"
   ]
  },
  {
   "cell_type": "code",
   "execution_count": 877,
   "metadata": {},
   "outputs": [
    {
     "data": {
      "text/plain": [
       "3.2465676487167601"
      ]
     },
     "execution_count": 877,
     "metadata": {},
     "output_type": "execute_result"
    }
   ],
   "source": [
    "rmse_scores = np.sqrt(mse_scores)\n",
    "rmse_scores.mean()"
   ]
  },
  {
   "cell_type": "markdown",
   "metadata": {},
   "source": [
    "We find improvement in root mean square error by using the ensemble method for the regression model but due to shortage of time we cannot find the best parameters so we stick to a value of 100 estimators."
   ]
  },
  {
   "cell_type": "markdown",
   "metadata": {
    "collapsed": true
   },
   "source": [
    "Finally we combine the two best methods and build our overall model."
   ]
  },
  {
   "cell_type": "markdown",
   "metadata": {},
   "source": [
    "We select random 10000 records for testing our predictions"
   ]
  },
  {
   "cell_type": "code",
   "execution_count": 895,
   "metadata": {
    "collapsed": true
   },
   "outputs": [],
   "source": [
    "test_data = df.sample(n=10000)"
   ]
  },
  {
   "cell_type": "markdown",
   "metadata": {},
   "source": [
    "Predict class values by the bagging classifier model"
   ]
  },
  {
   "cell_type": "code",
   "execution_count": 896,
   "metadata": {
    "collapsed": true
   },
   "outputs": [],
   "source": [
    "y_pred_class = bag.predict(test_data[feature_cols])"
   ]
  },
  {
   "cell_type": "code",
   "execution_count": 897,
   "metadata": {},
   "outputs": [
    {
     "name": "stdout",
     "output_type": "stream",
     "text": [
      "0.9303\n"
     ]
    }
   ],
   "source": [
    "print metrics.accuracy_score(y_pred_class, test_data['Tip?'])"
   ]
  },
  {
   "cell_type": "markdown",
   "metadata": {},
   "source": [
    "Predict the tip percentages by fitting the regression model and multiplying the predicted class values so that the classes predicted as 0 will predict tip percentage as 0."
   ]
  },
  {
   "cell_type": "code",
   "execution_count": 898,
   "metadata": {
    "collapsed": true
   },
   "outputs": [],
   "source": [
    "y_pred_reg = y_pred_class*boost.predict(test_data[reg_feature_cols])"
   ]
  },
  {
   "cell_type": "code",
   "execution_count": 899,
   "metadata": {},
   "outputs": [
    {
     "name": "stdout",
     "output_type": "stream",
     "text": [
      "3.67330854689\n"
     ]
    }
   ],
   "source": [
    "print np.sqrt(metrics.mean_squared_error(test_data['Tip_percentage'], y_pred_reg))"
   ]
  },
  {
   "cell_type": "markdown",
   "metadata": {},
   "source": [
    "We can observe that both our classification (0.9303) and regression accuracy (3.673) is good but can be improved further with some more rounds of optimization and model explorations. "
   ]
  },
  {
   "cell_type": "markdown",
   "metadata": {},
   "source": [
    "Q 5 Build a derived variable representing the average speed over the course of a trip."
   ]
  },
  {
   "cell_type": "markdown",
   "metadata": {},
   "source": [
    "This has already been done for feature engineering purposes. The variable built is Trip_speed"
   ]
  },
  {
   "cell_type": "code",
   "execution_count": 900,
   "metadata": {},
   "outputs": [
    {
     "data": {
      "text/plain": [
       "0     0.000000\n",
       "1     0.000000\n",
       "2    13.792208\n",
       "3    10.829268\n",
       "4     8.926829\n",
       "Name: Trip_speed, dtype: float64"
      ]
     },
     "execution_count": 900,
     "metadata": {},
     "output_type": "execute_result"
    }
   ],
   "source": [
    "df.Trip_speed.head()"
   ]
  },
  {
   "cell_type": "markdown",
   "metadata": {},
   "source": [
    "Perform a test to determine if the average trip speeds are materially the same in all weeks of September? If you decide they are not the same, can you form a hypothesis regarding why they differ?\n"
   ]
  },
  {
   "cell_type": "code",
   "execution_count": 904,
   "metadata": {
    "collapsed": true
   },
   "outputs": [],
   "source": [
    "speed = df['Trip_speed']"
   ]
  },
  {
   "cell_type": "code",
   "execution_count": 905,
   "metadata": {
    "collapsed": true
   },
   "outputs": [],
   "source": [
    "mean_trip_speed_per_week = speed.groupby(df.lpep_pickup_datetime.dt.week).mean()"
   ]
  },
  {
   "cell_type": "code",
   "execution_count": 906,
   "metadata": {},
   "outputs": [
    {
     "data": {
      "text/plain": [
       "lpep_pickup_datetime\n",
       "36    13.348522\n",
       "37    12.673436\n",
       "38    12.678302\n",
       "39    13.153892\n",
       "40    12.486511\n",
       "Name: Trip_speed, dtype: float64"
      ]
     },
     "execution_count": 906,
     "metadata": {},
     "output_type": "execute_result"
    }
   ],
   "source": [
    "mean_trip_speed_per_week"
   ]
  },
  {
   "cell_type": "markdown",
   "metadata": {},
   "source": [
    "We can observe that the average trip speeds are materially the same in all 5 weeks of September with the first week and 4th week being a little high on average speed as compared to all other weeks. But the difference is less that 1 mph."
   ]
  },
  {
   "cell_type": "code",
   "execution_count": null,
   "metadata": {
    "collapsed": true
   },
   "outputs": [],
   "source": []
  }
 ],
 "metadata": {
  "kernelspec": {
   "display_name": "Python 2",
   "language": "python",
   "name": "python2"
  },
  "language_info": {
   "codemirror_mode": {
    "name": "ipython",
    "version": 2
   },
   "file_extension": ".py",
   "mimetype": "text/x-python",
   "name": "python",
   "nbconvert_exporter": "python",
   "pygments_lexer": "ipython2",
   "version": "2.7.13"
  }
 },
 "nbformat": 4,
 "nbformat_minor": 2
}
